{
  "metadata": {
    "language_info": {
      "codemirror_mode": {
        "name": "python",
        "version": 3
      },
      "file_extension": ".py",
      "mimetype": "text/x-python",
      "name": "python",
      "nbconvert_exporter": "python",
      "pygments_lexer": "ipython3",
      "version": "3.8"
    },
    "kernelspec": {
      "name": "python",
      "display_name": "Python (Pyodide)",
      "language": "python"
    }
  },
  "nbformat_minor": 4,
  "nbformat": 4,
  "cells": [
    {
      "cell_type": "markdown",
      "source": "Q1. Describe three applications for exception processing.",
      "metadata": {}
    },
    {
      "cell_type": "markdown",
      "source": "Exception processing is a mechanism in programming languages, including Python, used to handle unexpected or exceptional situations during the execution of a program. Here are three applications for exception processing:\n\n1. Error Handling:\n\nOne of the primary applications of exception processing is to handle errors that may occur during program execution. Instead of allowing errors to propagate and potentially crash the program, you can use try-except blocks to catch and handle specific types of exceptions, providing graceful degradation or recovery mechanisms.\n\n2. File I/O:\n\nWhen working with files, exceptions can occur due to various reasons, such as the file not existing, insufficient permissions, or unexpected file content. Exception processing allows you to handle these situations gracefully.\n\n3. Input Validation:\n\nException processing is valuable for validating user input and handling unexpected input gracefully. For instance, if a program expects a numeric input but receives a string, an exception can be caught and appropriate actions taken",
      "metadata": {}
    },
    {
      "cell_type": "markdown",
      "source": "Q2. What happens if you don't do something extra to treat an exception?",
      "metadata": {}
    },
    {
      "cell_type": "markdown",
      "source": "If you don't handle an exception explicitly (using a try-except block or other exception-handling mechanisms), the exception will propagate up the call stack. This means that the program will terminate, and an error message will be displayed, providing information about the unhandled exception.Delegation is a design pattern and programming concept where one object passes on (delegates) a task to another object to perform. Instead of inheriting from a class to reuse its behavior, a class can delegate some of its responsibilities to another class. This promotes code reuse, modularity, and flexibility in design.\n\nIn delegation, a class delegates a specific task to another class that is better suited to perform that task. The delegating class maintains control and can customize the behavior by deciding which class to delegate to. This pattern is often associated with composition, where objects are composed of other objects to achieve certain functionalities.",
      "metadata": {}
    },
    {
      "cell_type": "markdown",
      "source": "Q3. What are your options for recovering from an exception in your script?",
      "metadata": {}
    },
    {
      "cell_type": "markdown",
      "source": "\nWhen an exception occurs in a Python script, you have several options for recovering or handling the exception. Here are some common approaches:\n\n1. Using a Try-Except Block:\n\nWrap the code that might raise an exception within a try block, and use an except block to catch and handle the exception. This allows you to specify how the program should respond to the exception.\n\n2. Multiple Except Blocks:\n\nYou can have multiple except blocks to handle different types of exceptions in different ways. This provides more granular control over the exception handling process.\npython\n\n3. Finally Block:\n\nUse a finally block to specify code that should be executed whether an exception occurs or not. This is useful for cleanup operations.\n\n4. Else Block:\n\nInclude an else block after the except block to specify code that should be executed if no exception occurs.\n\n5. Raising a Different Exception:\n\nYou can catch an exception and then raise a different exception to signal a higher-level issue or to provide additional context.\n\n6. Logging:\n\nUse a logging mechanism to log details about the exception, allowing for debugging and analysis. Python's built-in logging module is commonly used for this purpose.\n\n7. Graceful Degradation:\n\nProvide a fallback mechanism or default behavior that allows the program to continue running, even if some part of it encounters an exception.",
      "metadata": {}
    },
    {
      "cell_type": "markdown",
      "source": "Q4. Describe two methods for triggering exceptions in your script.",
      "metadata": {}
    },
    {
      "cell_type": "markdown",
      "source": "In Python, you can intentionally trigger exceptions using the raise statement. This is useful for testing error-handling mechanisms or for signaling exceptional conditions in your code. Here are two methods for triggering exceptions in your script:\n\n1. Using the raise Statement:\n\nThe raise statement allows you to raise an exception explicitly. You can either raise a built-in exception or create a custom exception by deriving a class from the Exception base class.\n\n2. Forcing an Exception in Built-in Functions or Methods:\n\nSome built-in functions or methods may raise exceptions under certain conditions. You can intentionally trigger these exceptions by providing input that violates the expected conditions.\n\n",
      "metadata": {}
    },
    {
      "cell_type": "markdown",
      "source": "Q5. What is the purpose of pseudoprivate attributes?",
      "metadata": {}
    },
    {
      "cell_type": "markdown",
      "source": "Pseudoprivate attributes in Python are a convention rather than a strict enforcement of access control. These attributes are intended to be private or semi-private, and their names are prefixed with a double underscore (__). This naming convention indicates to developers that these attributes are for internal use within the class and should not be accessed or modified directly from outside the class.\n\nThe purpose of pseudoprivate attributes includes:\n\nEncapsulation:\n\nPseudoprivate attributes help in encapsulating the internal details of a class. By using a naming convention like __attribute, the class signals that the attribute is part of its internal implementation, and users of the class should avoid accessing or modifying it directly.\nName Mangling:\n\nPython performs name mangling on pseudoprivate attributes, adding a prefix based on the class name. This is done to avoid naming conflicts in case of inheritance. For example, an attribute named __attribute in a class named MyClass would be mangled to _MyClass__attribute.\nPreventing Accidental Overwrites:\n\nThe use of double underscores in attribute names reduces the likelihood of accidental name clashes with attributes defined in subclasses or in other classes.",
      "metadata": {}
    }
  ]
}