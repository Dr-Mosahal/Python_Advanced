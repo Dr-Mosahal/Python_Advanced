{
  "metadata": {
    "language_info": {
      "codemirror_mode": {
        "name": "python",
        "version": 3
      },
      "file_extension": ".py",
      "mimetype": "text/x-python",
      "name": "python",
      "nbconvert_exporter": "python",
      "pygments_lexer": "ipython3",
      "version": "3.8"
    },
    "kernelspec": {
      "name": "python",
      "display_name": "Python (Pyodide)",
      "language": "python"
    }
  },
  "nbformat_minor": 4,
  "nbformat": 4,
  "cells": [
    {
      "cell_type": "markdown",
      "source": "Q1. What is the meaning of multiple inheritance?",
      "metadata": {}
    },
    {
      "cell_type": "markdown",
      "source": "Multiple inheritance is a feature in object-oriented programming languages that allows a class to inherit attributes and methods from more than one parent class. In other words, a class can be derived from more than one base classes, and it inherits properties from all of them.\n\nFor example, if you have two classes, ClassA and ClassB, a third class, let's call it ClassC, can inherit from both ClassA and ClassB. This means that ClassC will have access to the attributes and methods of both ClassA and ClassB.",
      "metadata": {}
    },
    {
      "cell_type": "markdown",
      "source": "Q2. What is the concept of delegation?",
      "metadata": {}
    },
    {
      "cell_type": "markdown",
      "source": "Delegation is a design pattern and programming concept where one object passes on (delegates) a task to another object to perform. Instead of inheriting from a class to reuse its behavior, a class can delegate some of its responsibilities to another class. This promotes code reuse, modularity, and flexibility in design.\n\nIn delegation, a class delegates a specific task to another class that is better suited to perform that task. The delegating class maintains control and can customize the behavior by deciding which class to delegate to. This pattern is often associated with composition, where objects are composed of other objects to achieve certain functionalities.",
      "metadata": {}
    },
    {
      "cell_type": "markdown",
      "source": "Q3. What is the concept of composition?",
      "metadata": {}
    },
    {
      "cell_type": "markdown",
      "source": "Composition is a design principle and programming concept in object-oriented programming (OOP) where objects of one class are composed of objects of another class. Rather than relying on inheritance to reuse code, composition involves creating complex objects by combining simpler ones, forming a \"has-a\" relationship. This allows for greater flexibility and modularity in designing and organizing code.\n\nIn composition, the relationships between classes are typically established through object attributes. The composed class contains an instance of another class as a part of its internal state. This relationship enables the composed class to access and use the functionality of the contained class.",
      "metadata": {}
    },
    {
      "cell_type": "markdown",
      "source": "Q4. What are bound methods and how do we use them?",
      "metadata": {}
    },
    {
      "cell_type": "markdown",
      "source": "In Python, a bound method refers to a method that is associated with an instance of a class. When you access a method through an instance of a class, it becomes a bound method because it is bound to that specific instance. The bound method includes a reference to the instance itself, allowing it to access and operate on the instance's attributes.",
      "metadata": {}
    },
    {
      "cell_type": "markdown",
      "source": "Q5. What is the purpose of pseudoprivate attributes?",
      "metadata": {}
    },
    {
      "cell_type": "markdown",
      "source": "Pseudoprivate attributes in Python are a convention rather than a strict enforcement of access control. These attributes are intended to be private or semi-private, and their names are prefixed with a double underscore (__). This naming convention indicates to developers that these attributes are for internal use within the class and should not be accessed or modified directly from outside the class.\n\nThe purpose of pseudoprivate attributes includes:\n\nEncapsulation:\n\nPseudoprivate attributes help in encapsulating the internal details of a class. By using a naming convention like __attribute, the class signals that the attribute is part of its internal implementation, and users of the class should avoid accessing or modifying it directly.\nName Mangling:\n\nPython performs name mangling on pseudoprivate attributes, adding a prefix based on the class name. This is done to avoid naming conflicts in case of inheritance. For example, an attribute named __attribute in a class named MyClass would be mangled to _MyClass__attribute.\nPreventing Accidental Overwrites:\n\nThe use of double underscores in attribute names reduces the likelihood of accidental name clashes with attributes defined in subclasses or in other classes.",
      "metadata": {}
    }
  ]
}