{
  "metadata": {
    "language_info": {
      "codemirror_mode": {
        "name": "python",
        "version": 3
      },
      "file_extension": ".py",
      "mimetype": "text/x-python",
      "name": "python",
      "nbconvert_exporter": "python",
      "pygments_lexer": "ipython3",
      "version": "3.8"
    },
    "kernelspec": {
      "name": "python",
      "display_name": "Python (Pyodide)",
      "language": "python"
    }
  },
  "nbformat_minor": 4,
  "nbformat": 4,
  "cells": [
    {
      "cell_type": "markdown",
      "source": "1. What is the concept of an abstract superclass?\n\n",
      "metadata": {}
    },
    {
      "cell_type": "markdown",
      "source": "An abstract superclass is a class in object-oriented programming that is declared with the \"abstract\" keyword and cannot be instantiated on its own. It typically contains abstract methods, which are methods without a defined implementation. Subclasses inheriting from the abstract superclass must provide concrete implementations for these abstract methods. The abstract superclass serves as a blueprint for its subclasses, enforcing a common structure or interface.\n\n\n\n\n\n",
      "metadata": {}
    },
    {
      "cell_type": "markdown",
      "source": "2. What happens when a class statement&#39;s top level contains a basic assignment statement?",
      "metadata": {}
    },
    {
      "cell_type": "markdown",
      "source": "In Python, when a class statement's top level contains a basic assignment statement, it creates a class variable. Class variables are shared among all instances of the class. They are defined outside of any method in the class and are often used to store data that is shared by all instances of the class. If the assignment statement is inside a method, it creates an instance variable specific to that method.",
      "metadata": {}
    },
    {
      "cell_type": "markdown",
      "source": "3. Why does a class need to manually call a superclass&#39;s __init__ method?",
      "metadata": {}
    },
    {
      "cell_type": "markdown",
      "source": "In object-oriented programming, when a subclass is created, it may have its own constructor (__init__ method). If the superclass (parent class) also has an __init__ method, and the subclass wants to initialize the attributes of both the subclass and the superclass, the subclass needs to explicitly call the superclass's __init__ method.\n\nThis is typically done using the super() function. The super() function returns a temporary object of the superclass, allowing you to call its methods. By calling super().__init__(...) within the subclass's __init__ method, you ensure that both the subclass and the superclass initialization logic is executed.",
      "metadata": {}
    },
    {
      "cell_type": "markdown",
      "source": "4. How can you augment, instead of completely replacing, an inherited method?",
      "metadata": {}
    },
    {
      "cell_type": "code",
      "source": "To augment, or extend, an inherited method without completely replacing it, you can follow these steps in object-oriented programming:\n\n1.Use the super() function to call the method of the parent class.\n2.Add the additional behavior specific to the subclass.",
      "metadata": {},
      "execution_count": null,
      "outputs": []
    },
    {
      "cell_type": "markdown",
      "source": "5. How is the local scope of a class different from that of a function?",
      "metadata": {}
    },
    {
      "cell_type": "markdown",
      "source": "The local scope of a class and that of a function in Python differ in terms of their purposes and how variables are accessed:\n\n1.Variables Scope:\n\nIn a function, variables defined within the function are considered local to that function. They are accessible only within the function unless explicitly marked as global.\nIn a class, variables defined within methods are typically considered local to those methods. However, class variables (defined outside methods) have a scope that extends to all instances of the class.\nAccess to Variables:\n\n2.Local variables in a function are accessible only within that function. They are usually created when the function is called and destroyed when the function exits.\nIn a class, instance variables (defined in methods using self) are accessible throughout the class once an instance is created. Class variables (defined outside methods) are shared among all instances of the class.",
      "metadata": {}
    }
  ]
}